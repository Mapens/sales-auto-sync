{
 "cells": [
  {
   "cell_type": "code",
   "execution_count": null,
   "id": "f3a6d90b",
   "metadata": {},
   "outputs": [],
   "source": [
    "import pandas as pd\n",
    "import gspread\n",
    "from oauth2client.service_account import ServiceAccountCredentials\n",
    "from datetime import datetime\n",
    "import numpy as np"
   ]
  },
  {
   "cell_type": "code",
   "execution_count": null,
   "id": "2b47c9cb",
   "metadata": {},
   "outputs": [],
   "source": [
    "# define the scope and credentials\n",
    "scope =[\n",
    "    \"https://www.googleapis.com/auth/spreadsheets\",\n",
    "    \"https://www.googleapis.com/auth/drive\"\n",
    "]\n",
    "\n",
    "creds = ServiceAccountCredentials.from_json_keyfile_name(\n",
    "    'sales-sync-automation-dbe6b9c8399b.json', \n",
    "    scope\n",
    ")\n",
    "\n",
    "#authorize the client\n",
    "client = gspread.authorize(creds)\n",
    "\n",
    "mySheet = \"Sales Sync Test\""
   ]
  },
  {
   "cell_type": "code",
   "execution_count": null,
   "id": "6b8eff63",
   "metadata": {},
   "outputs": [],
   "source": [
    "# open the Google Sheet\n",
    "sheet = client.open(mySheet).sheet1"
   ]
  },
  {
   "cell_type": "code",
   "execution_count": null,
   "id": "3176471b",
   "metadata": {},
   "outputs": [],
   "source": [
    "# open the csv file\n",
    "df = pd.read_csv('sales.csv')"
   ]
  },
  {
   "cell_type": "code",
   "execution_count": null,
   "id": "2c25f414",
   "metadata": {},
   "outputs": [],
   "source": [
    "# Clean the column names (strip spaces, capitalize)\n",
    "df.columns = [col.strip().capitalize() for col in df.columns]"
   ]
  },
  {
   "cell_type": "code",
   "execution_count": null,
   "id": "7e3b42d0",
   "metadata": {},
   "outputs": [],
   "source": [
    "df"
   ]
  },
  {
   "cell_type": "code",
   "execution_count": null,
   "id": "8f51b697",
   "metadata": {},
   "outputs": [],
   "source": [
    "# convert date columns to datetime format\n",
    "df['Date'] = pd.to_datetime(df['Date'])\n",
    "\n",
    "#clear the sheet before writing new data\n",
    "sheet.clear()"
   ]
  },
  {
   "cell_type": "code",
   "execution_count": null,
   "id": "e1f64f24",
   "metadata": {},
   "outputs": [],
   "source": [
    "# convert datetime columns to string format for Google Sheets compatibility\n",
    "df['Date'] = df['Date'].dt.strftime('%Y-%m-%d')\n",
    "\n",
    "# update the sheet with the DataFrame\n",
    "sheet.update([df.columns.values.tolist()] + df.values.tolist())"
   ]
  },
  {
   "cell_type": "code",
   "execution_count": null,
   "id": "7885124a",
   "metadata": {},
   "outputs": [],
   "source": [
    "# calculate where to place the sync timestamp\n",
    "last_row = len(df) + 3  # +3 add a few rows for space\n",
    "\n",
    "#add \"Last Synced\" label and timestamp\n",
    "sheet.update_cell(last_row, 1, \"Last Synced\")\n",
    "# sheet.update_cell(last_row, 2, datetime.now().strftime('%Y-%m-%d %H:%M:%S'))\n",
    "\n",
    "# in case we want to add a timezone:\n",
    "from pytz import timezone\n",
    "lagos_time_now = datetime.now(timezone('Africa/Lagos')).strftime('%Y-%m-%d %H:%M:%S')\n",
    "\n",
    "# update the timestamp with timezone\n",
    "sheet.update_cell(last_row, 2, lagos_time_now)"
   ]
  }
 ],
 "metadata": {
  "kernelspec": {
   "display_name": ".venv",
   "language": "python",
   "name": "python3"
  },
  "language_info": {
   "codemirror_mode": {
    "name": "ipython",
    "version": 3
   },
   "file_extension": ".py",
   "mimetype": "text/x-python",
   "name": "python",
   "nbconvert_exporter": "python",
   "pygments_lexer": "ipython3",
   "version": "3.11.4"
  }
 },
 "nbformat": 4,
 "nbformat_minor": 5
}
